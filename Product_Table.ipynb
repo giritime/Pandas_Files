{
 "cells": [
  {
   "cell_type": "code",
   "execution_count": 7,
   "id": "23fb57c4",
   "metadata": {},
   "outputs": [],
   "source": [
    "import pandas as pd"
   ]
  },
  {
   "cell_type": "code",
   "execution_count": 8,
   "id": "18456252",
   "metadata": {},
   "outputs": [],
   "source": [
    "product =pd.read_csv(r\"D:\\Learning\\iBridge 360\\Python Programming\\Product_tables.csv\")"
   ]
  },
  {
   "cell_type": "code",
   "execution_count": 9,
   "id": "f3cedcc4",
   "metadata": {},
   "outputs": [
    {
     "data": {
      "text/html": [
       "<div>\n",
       "<style scoped>\n",
       "    .dataframe tbody tr th:only-of-type {\n",
       "        vertical-align: middle;\n",
       "    }\n",
       "\n",
       "    .dataframe tbody tr th {\n",
       "        vertical-align: top;\n",
       "    }\n",
       "\n",
       "    .dataframe thead th {\n",
       "        text-align: right;\n",
       "    }\n",
       "</style>\n",
       "<table border=\"1\" class=\"dataframe\">\n",
       "  <thead>\n",
       "    <tr style=\"text-align: right;\">\n",
       "      <th></th>\n",
       "      <th>p_id</th>\n",
       "      <th>p_name</th>\n",
       "      <th>p_family</th>\n",
       "      <th>price</th>\n",
       "      <th>cost</th>\n",
       "      <th>launch_date</th>\n",
       "    </tr>\n",
       "  </thead>\n",
       "  <tbody>\n",
       "    <tr>\n",
       "      <th>0</th>\n",
       "      <td>100</td>\n",
       "      <td>Marker</td>\n",
       "      <td>Stationary</td>\n",
       "      <td>25</td>\n",
       "      <td>22</td>\n",
       "      <td>15-Jan-08</td>\n",
       "    </tr>\n",
       "    <tr>\n",
       "      <th>1</th>\n",
       "      <td>101</td>\n",
       "      <td>Mouse</td>\n",
       "      <td>Computer</td>\n",
       "      <td>450</td>\n",
       "      <td>350</td>\n",
       "      <td>16-Apr-09</td>\n",
       "    </tr>\n",
       "    <tr>\n",
       "      <th>2</th>\n",
       "      <td>102</td>\n",
       "      <td>White Board</td>\n",
       "      <td>Stationary</td>\n",
       "      <td>450</td>\n",
       "      <td>375</td>\n",
       "      <td>20-Aug-10</td>\n",
       "    </tr>\n",
       "    <tr>\n",
       "      <th>3</th>\n",
       "      <td>103</td>\n",
       "      <td>Sony Vaio</td>\n",
       "      <td>Computer</td>\n",
       "      <td>35000</td>\n",
       "      <td>42000</td>\n",
       "      <td>21-Sep-10</td>\n",
       "    </tr>\n",
       "  </tbody>\n",
       "</table>\n",
       "</div>"
      ],
      "text/plain": [
       "   p_id       p_name    p_family  price   cost launch_date\n",
       "0   100       Marker  Stationary     25     22   15-Jan-08\n",
       "1   101        Mouse    Computer    450    350   16-Apr-09\n",
       "2   102  White Board  Stationary    450    375   20-Aug-10\n",
       "3   103    Sony Vaio    Computer  35000  42000   21-Sep-10"
      ]
     },
     "execution_count": 9,
     "metadata": {},
     "output_type": "execute_result"
    }
   ],
   "source": [
    "product"
   ]
  },
  {
   "cell_type": "code",
   "execution_count": 6,
   "id": "0ae73cd5",
   "metadata": {},
   "outputs": [
    {
     "data": {
      "text/html": [
       "<div>\n",
       "<style scoped>\n",
       "    .dataframe tbody tr th:only-of-type {\n",
       "        vertical-align: middle;\n",
       "    }\n",
       "\n",
       "    .dataframe tbody tr th {\n",
       "        vertical-align: top;\n",
       "    }\n",
       "\n",
       "    .dataframe thead th {\n",
       "        text-align: right;\n",
       "    }\n",
       "</style>\n",
       "<table border=\"1\" class=\"dataframe\">\n",
       "  <thead>\n",
       "    <tr style=\"text-align: right;\">\n",
       "      <th></th>\n",
       "      <th>p_id</th>\n",
       "      <th>p_name</th>\n",
       "      <th>p_family</th>\n",
       "      <th>price</th>\n",
       "      <th>cost</th>\n",
       "      <th>launch_date</th>\n",
       "    </tr>\n",
       "  </thead>\n",
       "  <tbody>\n",
       "    <tr>\n",
       "      <th>0</th>\n",
       "      <td>100</td>\n",
       "      <td>Marker</td>\n",
       "      <td>Stationary</td>\n",
       "      <td>25</td>\n",
       "      <td>22</td>\n",
       "      <td>15-Jan-08</td>\n",
       "    </tr>\n",
       "  </tbody>\n",
       "</table>\n",
       "</div>"
      ],
      "text/plain": [
       "   p_id  p_name    p_family  price  cost launch_date\n",
       "0   100  Marker  Stationary     25    22   15-Jan-08"
      ]
     },
     "execution_count": 6,
     "metadata": {},
     "output_type": "execute_result"
    }
   ],
   "source": [
    "#elect * from produvt where p_id=100\n",
    "\n",
    "product[product['p_id']==100]"
   ]
  },
  {
   "cell_type": "code",
   "execution_count": 7,
   "id": "9bca6eb8",
   "metadata": {},
   "outputs": [
    {
     "data": {
      "text/html": [
       "<div>\n",
       "<style scoped>\n",
       "    .dataframe tbody tr th:only-of-type {\n",
       "        vertical-align: middle;\n",
       "    }\n",
       "\n",
       "    .dataframe tbody tr th {\n",
       "        vertical-align: top;\n",
       "    }\n",
       "\n",
       "    .dataframe thead th {\n",
       "        text-align: right;\n",
       "    }\n",
       "</style>\n",
       "<table border=\"1\" class=\"dataframe\">\n",
       "  <thead>\n",
       "    <tr style=\"text-align: right;\">\n",
       "      <th></th>\n",
       "      <th>p_id</th>\n",
       "      <th>p_name</th>\n",
       "      <th>p_family</th>\n",
       "      <th>price</th>\n",
       "      <th>cost</th>\n",
       "      <th>launch_date</th>\n",
       "    </tr>\n",
       "  </thead>\n",
       "  <tbody>\n",
       "    <tr>\n",
       "      <th>0</th>\n",
       "      <td>100</td>\n",
       "      <td>Marker</td>\n",
       "      <td>Stationary</td>\n",
       "      <td>25</td>\n",
       "      <td>22</td>\n",
       "      <td>15-Jan-08</td>\n",
       "    </tr>\n",
       "    <tr>\n",
       "      <th>2</th>\n",
       "      <td>102</td>\n",
       "      <td>White Board</td>\n",
       "      <td>Stationary</td>\n",
       "      <td>450</td>\n",
       "      <td>375</td>\n",
       "      <td>20-Aug-10</td>\n",
       "    </tr>\n",
       "  </tbody>\n",
       "</table>\n",
       "</div>"
      ],
      "text/plain": [
       "   p_id       p_name    p_family  price  cost launch_date\n",
       "0   100       Marker  Stationary     25    22   15-Jan-08\n",
       "2   102  White Board  Stationary    450   375   20-Aug-10"
      ]
     },
     "execution_count": 7,
     "metadata": {},
     "output_type": "execute_result"
    }
   ],
   "source": [
    "product[product['p_family']=='Stationary']"
   ]
  },
  {
   "cell_type": "code",
   "execution_count": 8,
   "id": "20739793",
   "metadata": {},
   "outputs": [
    {
     "data": {
      "text/plain": [
       "0    100\n",
       "1    101\n",
       "2    102\n",
       "3    103\n",
       "Name: p_id, dtype: int64"
      ]
     },
     "execution_count": 8,
     "metadata": {},
     "output_type": "execute_result"
    }
   ],
   "source": [
    "product['p_id']"
   ]
  },
  {
   "cell_type": "code",
   "execution_count": 9,
   "id": "2873bd96",
   "metadata": {},
   "outputs": [
    {
     "data": {
      "text/plain": [
       "0    100\n",
       "Name: p_id, dtype: int64"
      ]
     },
     "execution_count": 9,
     "metadata": {},
     "output_type": "execute_result"
    }
   ],
   "source": [
    "product['p_id'][product['p_id']==100]"
   ]
  },
  {
   "cell_type": "code",
   "execution_count": 11,
   "id": "93006cd1",
   "metadata": {},
   "outputs": [
    {
     "data": {
      "text/html": [
       "<div>\n",
       "<style scoped>\n",
       "    .dataframe tbody tr th:only-of-type {\n",
       "        vertical-align: middle;\n",
       "    }\n",
       "\n",
       "    .dataframe tbody tr th {\n",
       "        vertical-align: top;\n",
       "    }\n",
       "\n",
       "    .dataframe thead th {\n",
       "        text-align: right;\n",
       "    }\n",
       "</style>\n",
       "<table border=\"1\" class=\"dataframe\">\n",
       "  <thead>\n",
       "    <tr style=\"text-align: right;\">\n",
       "      <th></th>\n",
       "      <th>p_id</th>\n",
       "      <th>p_name</th>\n",
       "    </tr>\n",
       "  </thead>\n",
       "  <tbody>\n",
       "    <tr>\n",
       "      <th>0</th>\n",
       "      <td>100</td>\n",
       "      <td>Marker</td>\n",
       "    </tr>\n",
       "    <tr>\n",
       "      <th>1</th>\n",
       "      <td>101</td>\n",
       "      <td>Mouse</td>\n",
       "    </tr>\n",
       "    <tr>\n",
       "      <th>2</th>\n",
       "      <td>102</td>\n",
       "      <td>White Board</td>\n",
       "    </tr>\n",
       "    <tr>\n",
       "      <th>3</th>\n",
       "      <td>103</td>\n",
       "      <td>Sony Vaio</td>\n",
       "    </tr>\n",
       "  </tbody>\n",
       "</table>\n",
       "</div>"
      ],
      "text/plain": [
       "   p_id       p_name\n",
       "0   100       Marker\n",
       "1   101        Mouse\n",
       "2   102  White Board\n",
       "3   103    Sony Vaio"
      ]
     },
     "execution_count": 11,
     "metadata": {},
     "output_type": "execute_result"
    }
   ],
   "source": [
    "product[['p_id', 'p_name']]"
   ]
  },
  {
   "cell_type": "code",
   "execution_count": 12,
   "id": "1876aff7",
   "metadata": {},
   "outputs": [],
   "source": [
    "c=['p_id','p_name', 'p_family', 'launch_date']"
   ]
  },
  {
   "cell_type": "code",
   "execution_count": 13,
   "id": "93a1a9b9",
   "metadata": {},
   "outputs": [
    {
     "data": {
      "text/plain": [
       "['p_id', 'p_name', 'p_family', 'launch_date']"
      ]
     },
     "execution_count": 13,
     "metadata": {},
     "output_type": "execute_result"
    }
   ],
   "source": [
    "c"
   ]
  },
  {
   "cell_type": "code",
   "execution_count": 14,
   "id": "c1662b8e",
   "metadata": {},
   "outputs": [
    {
     "data": {
      "text/html": [
       "<div>\n",
       "<style scoped>\n",
       "    .dataframe tbody tr th:only-of-type {\n",
       "        vertical-align: middle;\n",
       "    }\n",
       "\n",
       "    .dataframe tbody tr th {\n",
       "        vertical-align: top;\n",
       "    }\n",
       "\n",
       "    .dataframe thead th {\n",
       "        text-align: right;\n",
       "    }\n",
       "</style>\n",
       "<table border=\"1\" class=\"dataframe\">\n",
       "  <thead>\n",
       "    <tr style=\"text-align: right;\">\n",
       "      <th></th>\n",
       "      <th>p_id</th>\n",
       "      <th>p_name</th>\n",
       "      <th>p_family</th>\n",
       "      <th>launch_date</th>\n",
       "    </tr>\n",
       "  </thead>\n",
       "  <tbody>\n",
       "    <tr>\n",
       "      <th>0</th>\n",
       "      <td>100</td>\n",
       "      <td>Marker</td>\n",
       "      <td>Stationary</td>\n",
       "      <td>15-Jan-08</td>\n",
       "    </tr>\n",
       "    <tr>\n",
       "      <th>1</th>\n",
       "      <td>101</td>\n",
       "      <td>Mouse</td>\n",
       "      <td>Computer</td>\n",
       "      <td>16-Apr-09</td>\n",
       "    </tr>\n",
       "    <tr>\n",
       "      <th>2</th>\n",
       "      <td>102</td>\n",
       "      <td>White Board</td>\n",
       "      <td>Stationary</td>\n",
       "      <td>20-Aug-10</td>\n",
       "    </tr>\n",
       "    <tr>\n",
       "      <th>3</th>\n",
       "      <td>103</td>\n",
       "      <td>Sony Vaio</td>\n",
       "      <td>Computer</td>\n",
       "      <td>21-Sep-10</td>\n",
       "    </tr>\n",
       "  </tbody>\n",
       "</table>\n",
       "</div>"
      ],
      "text/plain": [
       "   p_id       p_name    p_family launch_date\n",
       "0   100       Marker  Stationary   15-Jan-08\n",
       "1   101        Mouse    Computer   16-Apr-09\n",
       "2   102  White Board  Stationary   20-Aug-10\n",
       "3   103    Sony Vaio    Computer   21-Sep-10"
      ]
     },
     "execution_count": 14,
     "metadata": {},
     "output_type": "execute_result"
    }
   ],
   "source": [
    "product[c]"
   ]
  },
  {
   "cell_type": "code",
   "execution_count": 15,
   "id": "5c6c9608",
   "metadata": {},
   "outputs": [
    {
     "data": {
      "text/html": [
       "<div>\n",
       "<style scoped>\n",
       "    .dataframe tbody tr th:only-of-type {\n",
       "        vertical-align: middle;\n",
       "    }\n",
       "\n",
       "    .dataframe tbody tr th {\n",
       "        vertical-align: top;\n",
       "    }\n",
       "\n",
       "    .dataframe thead th {\n",
       "        text-align: right;\n",
       "    }\n",
       "</style>\n",
       "<table border=\"1\" class=\"dataframe\">\n",
       "  <thead>\n",
       "    <tr style=\"text-align: right;\">\n",
       "      <th></th>\n",
       "      <th>p_id</th>\n",
       "      <th>p_name</th>\n",
       "      <th>p_family</th>\n",
       "      <th>price</th>\n",
       "      <th>cost</th>\n",
       "      <th>launch_date</th>\n",
       "    </tr>\n",
       "  </thead>\n",
       "  <tbody>\n",
       "    <tr>\n",
       "      <th>0</th>\n",
       "      <td>100</td>\n",
       "      <td>Marker</td>\n",
       "      <td>Stationary</td>\n",
       "      <td>25</td>\n",
       "      <td>22</td>\n",
       "      <td>15-Jan-08</td>\n",
       "    </tr>\n",
       "    <tr>\n",
       "      <th>1</th>\n",
       "      <td>101</td>\n",
       "      <td>Mouse</td>\n",
       "      <td>Computer</td>\n",
       "      <td>450</td>\n",
       "      <td>350</td>\n",
       "      <td>16-Apr-09</td>\n",
       "    </tr>\n",
       "    <tr>\n",
       "      <th>2</th>\n",
       "      <td>102</td>\n",
       "      <td>White Board</td>\n",
       "      <td>Stationary</td>\n",
       "      <td>450</td>\n",
       "      <td>375</td>\n",
       "      <td>20-Aug-10</td>\n",
       "    </tr>\n",
       "    <tr>\n",
       "      <th>3</th>\n",
       "      <td>103</td>\n",
       "      <td>Sony Vaio</td>\n",
       "      <td>Computer</td>\n",
       "      <td>35000</td>\n",
       "      <td>42000</td>\n",
       "      <td>21-Sep-10</td>\n",
       "    </tr>\n",
       "  </tbody>\n",
       "</table>\n",
       "</div>"
      ],
      "text/plain": [
       "   p_id       p_name    p_family  price   cost launch_date\n",
       "0   100       Marker  Stationary     25     22   15-Jan-08\n",
       "1   101        Mouse    Computer    450    350   16-Apr-09\n",
       "2   102  White Board  Stationary    450    375   20-Aug-10\n",
       "3   103    Sony Vaio    Computer  35000  42000   21-Sep-10"
      ]
     },
     "execution_count": 15,
     "metadata": {},
     "output_type": "execute_result"
    }
   ],
   "source": [
    "product"
   ]
  },
  {
   "cell_type": "code",
   "execution_count": 21,
   "id": "5204280b",
   "metadata": {},
   "outputs": [
    {
     "data": {
      "text/html": [
       "<div>\n",
       "<style scoped>\n",
       "    .dataframe tbody tr th:only-of-type {\n",
       "        vertical-align: middle;\n",
       "    }\n",
       "\n",
       "    .dataframe tbody tr th {\n",
       "        vertical-align: top;\n",
       "    }\n",
       "\n",
       "    .dataframe thead th {\n",
       "        text-align: right;\n",
       "    }\n",
       "</style>\n",
       "<table border=\"1\" class=\"dataframe\">\n",
       "  <thead>\n",
       "    <tr style=\"text-align: right;\">\n",
       "      <th></th>\n",
       "      <th>p_id</th>\n",
       "      <th>p_name</th>\n",
       "    </tr>\n",
       "  </thead>\n",
       "  <tbody>\n",
       "    <tr>\n",
       "      <th>0</th>\n",
       "      <td>100</td>\n",
       "      <td>Marker</td>\n",
       "    </tr>\n",
       "    <tr>\n",
       "      <th>1</th>\n",
       "      <td>101</td>\n",
       "      <td>Mouse</td>\n",
       "    </tr>\n",
       "    <tr>\n",
       "      <th>2</th>\n",
       "      <td>102</td>\n",
       "      <td>White Board</td>\n",
       "    </tr>\n",
       "  </tbody>\n",
       "</table>\n",
       "</div>"
      ],
      "text/plain": [
       "   p_id       p_name\n",
       "0   100       Marker\n",
       "1   101        Mouse\n",
       "2   102  White Board"
      ]
     },
     "execution_count": 21,
     "metadata": {},
     "output_type": "execute_result"
    }
   ],
   "source": [
    "#select p_id, p_name where price < 10000\n",
    "product[['p_id', 'p_name']][product['price']<10000]"
   ]
  },
  {
   "cell_type": "code",
   "execution_count": 25,
   "id": "1c5dac79",
   "metadata": {},
   "outputs": [
    {
     "data": {
      "text/html": [
       "<div>\n",
       "<style scoped>\n",
       "    .dataframe tbody tr th:only-of-type {\n",
       "        vertical-align: middle;\n",
       "    }\n",
       "\n",
       "    .dataframe tbody tr th {\n",
       "        vertical-align: top;\n",
       "    }\n",
       "\n",
       "    .dataframe thead th {\n",
       "        text-align: right;\n",
       "    }\n",
       "</style>\n",
       "<table border=\"1\" class=\"dataframe\">\n",
       "  <thead>\n",
       "    <tr style=\"text-align: right;\">\n",
       "      <th></th>\n",
       "      <th>p_id</th>\n",
       "      <th>p_name</th>\n",
       "      <th>p_family</th>\n",
       "      <th>price</th>\n",
       "      <th>cost</th>\n",
       "      <th>launch_date</th>\n",
       "    </tr>\n",
       "  </thead>\n",
       "  <tbody>\n",
       "    <tr>\n",
       "      <th>3</th>\n",
       "      <td>103</td>\n",
       "      <td>Sony Vaio</td>\n",
       "      <td>Computer</td>\n",
       "      <td>35000</td>\n",
       "      <td>42000</td>\n",
       "      <td>21-Sep-10</td>\n",
       "    </tr>\n",
       "  </tbody>\n",
       "</table>\n",
       "</div>"
      ],
      "text/plain": [
       "   p_id     p_name  p_family  price   cost launch_date\n",
       "3   103  Sony Vaio  Computer  35000  42000   21-Sep-10"
      ]
     },
     "execution_count": 25,
     "metadata": {},
     "output_type": "execute_result"
    }
   ],
   "source": [
    "#select * from product where price = (select max(price) from product)\n",
    "product[product['price']==product['price'].max()]"
   ]
  },
  {
   "cell_type": "code",
   "execution_count": 26,
   "id": "2217fd9e",
   "metadata": {},
   "outputs": [
    {
     "data": {
      "text/html": [
       "<div>\n",
       "<style scoped>\n",
       "    .dataframe tbody tr th:only-of-type {\n",
       "        vertical-align: middle;\n",
       "    }\n",
       "\n",
       "    .dataframe tbody tr th {\n",
       "        vertical-align: top;\n",
       "    }\n",
       "\n",
       "    .dataframe thead th {\n",
       "        text-align: right;\n",
       "    }\n",
       "</style>\n",
       "<table border=\"1\" class=\"dataframe\">\n",
       "  <thead>\n",
       "    <tr style=\"text-align: right;\">\n",
       "      <th></th>\n",
       "      <th>p_id</th>\n",
       "      <th>p_name</th>\n",
       "      <th>p_family</th>\n",
       "      <th>price</th>\n",
       "      <th>cost</th>\n",
       "      <th>launch_date</th>\n",
       "    </tr>\n",
       "  </thead>\n",
       "  <tbody>\n",
       "    <tr>\n",
       "      <th>0</th>\n",
       "      <td>100</td>\n",
       "      <td>Marker</td>\n",
       "      <td>Stationary</td>\n",
       "      <td>25</td>\n",
       "      <td>22</td>\n",
       "      <td>15-Jan-08</td>\n",
       "    </tr>\n",
       "  </tbody>\n",
       "</table>\n",
       "</div>"
      ],
      "text/plain": [
       "   p_id  p_name    p_family  price  cost launch_date\n",
       "0   100  Marker  Stationary     25    22   15-Jan-08"
      ]
     },
     "execution_count": 26,
     "metadata": {},
     "output_type": "execute_result"
    }
   ],
   "source": [
    "product[product['price']==product['price'].min()]"
   ]
  },
  {
   "cell_type": "code",
   "execution_count": 10,
   "id": "7910edf5",
   "metadata": {},
   "outputs": [],
   "source": [
    "#3.Find the products which give more profit than product Mouse\n",
    "product['profit']=product['price']-product['cost']"
   ]
  },
  {
   "cell_type": "code",
   "execution_count": 11,
   "id": "611da6cb",
   "metadata": {},
   "outputs": [
    {
     "data": {
      "text/html": [
       "<div>\n",
       "<style scoped>\n",
       "    .dataframe tbody tr th:only-of-type {\n",
       "        vertical-align: middle;\n",
       "    }\n",
       "\n",
       "    .dataframe tbody tr th {\n",
       "        vertical-align: top;\n",
       "    }\n",
       "\n",
       "    .dataframe thead th {\n",
       "        text-align: right;\n",
       "    }\n",
       "</style>\n",
       "<table border=\"1\" class=\"dataframe\">\n",
       "  <thead>\n",
       "    <tr style=\"text-align: right;\">\n",
       "      <th></th>\n",
       "      <th>p_id</th>\n",
       "      <th>p_name</th>\n",
       "      <th>p_family</th>\n",
       "      <th>price</th>\n",
       "      <th>cost</th>\n",
       "      <th>launch_date</th>\n",
       "      <th>profit</th>\n",
       "    </tr>\n",
       "  </thead>\n",
       "  <tbody>\n",
       "    <tr>\n",
       "      <th>0</th>\n",
       "      <td>100</td>\n",
       "      <td>Marker</td>\n",
       "      <td>Stationary</td>\n",
       "      <td>25</td>\n",
       "      <td>22</td>\n",
       "      <td>15-Jan-08</td>\n",
       "      <td>3</td>\n",
       "    </tr>\n",
       "    <tr>\n",
       "      <th>1</th>\n",
       "      <td>101</td>\n",
       "      <td>Mouse</td>\n",
       "      <td>Computer</td>\n",
       "      <td>450</td>\n",
       "      <td>350</td>\n",
       "      <td>16-Apr-09</td>\n",
       "      <td>100</td>\n",
       "    </tr>\n",
       "    <tr>\n",
       "      <th>2</th>\n",
       "      <td>102</td>\n",
       "      <td>White Board</td>\n",
       "      <td>Stationary</td>\n",
       "      <td>450</td>\n",
       "      <td>375</td>\n",
       "      <td>20-Aug-10</td>\n",
       "      <td>75</td>\n",
       "    </tr>\n",
       "    <tr>\n",
       "      <th>3</th>\n",
       "      <td>103</td>\n",
       "      <td>Sony Vaio</td>\n",
       "      <td>Computer</td>\n",
       "      <td>35000</td>\n",
       "      <td>42000</td>\n",
       "      <td>21-Sep-10</td>\n",
       "      <td>-7000</td>\n",
       "    </tr>\n",
       "  </tbody>\n",
       "</table>\n",
       "</div>"
      ],
      "text/plain": [
       "   p_id       p_name    p_family  price   cost launch_date  profit\n",
       "0   100       Marker  Stationary     25     22   15-Jan-08       3\n",
       "1   101        Mouse    Computer    450    350   16-Apr-09     100\n",
       "2   102  White Board  Stationary    450    375   20-Aug-10      75\n",
       "3   103    Sony Vaio    Computer  35000  42000   21-Sep-10   -7000"
      ]
     },
     "execution_count": 11,
     "metadata": {},
     "output_type": "execute_result"
    }
   ],
   "source": [
    "product"
   ]
  },
  {
   "cell_type": "code",
   "execution_count": 12,
   "id": "59a758f3",
   "metadata": {},
   "outputs": [
    {
     "data": {
      "text/html": [
       "<div>\n",
       "<style scoped>\n",
       "    .dataframe tbody tr th:only-of-type {\n",
       "        vertical-align: middle;\n",
       "    }\n",
       "\n",
       "    .dataframe tbody tr th {\n",
       "        vertical-align: top;\n",
       "    }\n",
       "\n",
       "    .dataframe thead th {\n",
       "        text-align: right;\n",
       "    }\n",
       "</style>\n",
       "<table border=\"1\" class=\"dataframe\">\n",
       "  <thead>\n",
       "    <tr style=\"text-align: right;\">\n",
       "      <th></th>\n",
       "      <th>p_id</th>\n",
       "      <th>p_name</th>\n",
       "      <th>p_family</th>\n",
       "      <th>price</th>\n",
       "      <th>cost</th>\n",
       "      <th>launch_date</th>\n",
       "      <th>profit</th>\n",
       "    </tr>\n",
       "  </thead>\n",
       "  <tbody>\n",
       "    <tr>\n",
       "      <th>1</th>\n",
       "      <td>101</td>\n",
       "      <td>Mouse</td>\n",
       "      <td>Computer</td>\n",
       "      <td>450</td>\n",
       "      <td>350</td>\n",
       "      <td>16-Apr-09</td>\n",
       "      <td>100</td>\n",
       "    </tr>\n",
       "    <tr>\n",
       "      <th>2</th>\n",
       "      <td>102</td>\n",
       "      <td>White Board</td>\n",
       "      <td>Stationary</td>\n",
       "      <td>450</td>\n",
       "      <td>375</td>\n",
       "      <td>20-Aug-10</td>\n",
       "      <td>75</td>\n",
       "    </tr>\n",
       "  </tbody>\n",
       "</table>\n",
       "</div>"
      ],
      "text/plain": [
       "   p_id       p_name    p_family  price  cost launch_date  profit\n",
       "1   101        Mouse    Computer    450   350   16-Apr-09     100\n",
       "2   102  White Board  Stationary    450   375   20-Aug-10      75"
      ]
     },
     "execution_count": 12,
     "metadata": {},
     "output_type": "execute_result"
    }
   ],
   "source": [
    "#3.Find the products which give more profit than product Mouse\n",
    "product[product['profit']>float(product['profit'][product['p_name']=='Marker'])]"
   ]
  },
  {
   "cell_type": "code",
   "execution_count": 23,
   "id": "0f1328ab",
   "metadata": {},
   "outputs": [
    {
     "data": {
      "text/html": [
       "<div>\n",
       "<style scoped>\n",
       "    .dataframe tbody tr th:only-of-type {\n",
       "        vertical-align: middle;\n",
       "    }\n",
       "\n",
       "    .dataframe tbody tr th {\n",
       "        vertical-align: top;\n",
       "    }\n",
       "\n",
       "    .dataframe thead th {\n",
       "        text-align: right;\n",
       "    }\n",
       "</style>\n",
       "<table border=\"1\" class=\"dataframe\">\n",
       "  <thead>\n",
       "    <tr style=\"text-align: right;\">\n",
       "      <th></th>\n",
       "      <th>p_id</th>\n",
       "      <th>p_name</th>\n",
       "      <th>p_family</th>\n",
       "      <th>price</th>\n",
       "      <th>cost</th>\n",
       "      <th>launch_date</th>\n",
       "      <th>profit</th>\n",
       "    </tr>\n",
       "  </thead>\n",
       "  <tbody>\n",
       "  </tbody>\n",
       "</table>\n",
       "</div>"
      ],
      "text/plain": [
       "Empty DataFrame\n",
       "Columns: [p_id, p_name, p_family, price, cost, launch_date, profit]\n",
       "Index: []"
      ]
     },
     "execution_count": 23,
     "metadata": {},
     "output_type": "execute_result"
    }
   ],
   "source": [
    "#display the products which are not from stationary and computer family\n",
    "product[~((product['p_family']!='Stationary') | (product['p_family']!='Computer'))]"
   ]
  },
  {
   "cell_type": "code",
   "execution_count": 24,
   "id": "f1b70631",
   "metadata": {},
   "outputs": [],
   "source": [
    "#11.\tList the product name, cost, price, profit and percentage of profit we get in each product\n",
    "product['percentage']=product['profit']/product['cost']*100"
   ]
  },
  {
   "cell_type": "code",
   "execution_count": 25,
   "id": "63bf2024",
   "metadata": {},
   "outputs": [
    {
     "data": {
      "text/html": [
       "<div>\n",
       "<style scoped>\n",
       "    .dataframe tbody tr th:only-of-type {\n",
       "        vertical-align: middle;\n",
       "    }\n",
       "\n",
       "    .dataframe tbody tr th {\n",
       "        vertical-align: top;\n",
       "    }\n",
       "\n",
       "    .dataframe thead th {\n",
       "        text-align: right;\n",
       "    }\n",
       "</style>\n",
       "<table border=\"1\" class=\"dataframe\">\n",
       "  <thead>\n",
       "    <tr style=\"text-align: right;\">\n",
       "      <th></th>\n",
       "      <th>p_id</th>\n",
       "      <th>p_name</th>\n",
       "      <th>p_family</th>\n",
       "      <th>price</th>\n",
       "      <th>cost</th>\n",
       "      <th>launch_date</th>\n",
       "      <th>profit</th>\n",
       "      <th>percentage</th>\n",
       "    </tr>\n",
       "  </thead>\n",
       "  <tbody>\n",
       "    <tr>\n",
       "      <th>0</th>\n",
       "      <td>100</td>\n",
       "      <td>Marker</td>\n",
       "      <td>Stationary</td>\n",
       "      <td>25</td>\n",
       "      <td>22</td>\n",
       "      <td>15-Jan-08</td>\n",
       "      <td>3</td>\n",
       "      <td>13.636364</td>\n",
       "    </tr>\n",
       "    <tr>\n",
       "      <th>1</th>\n",
       "      <td>101</td>\n",
       "      <td>Mouse</td>\n",
       "      <td>Computer</td>\n",
       "      <td>450</td>\n",
       "      <td>350</td>\n",
       "      <td>16-Apr-09</td>\n",
       "      <td>100</td>\n",
       "      <td>28.571429</td>\n",
       "    </tr>\n",
       "    <tr>\n",
       "      <th>2</th>\n",
       "      <td>102</td>\n",
       "      <td>White Board</td>\n",
       "      <td>Stationary</td>\n",
       "      <td>450</td>\n",
       "      <td>375</td>\n",
       "      <td>20-Aug-10</td>\n",
       "      <td>75</td>\n",
       "      <td>20.000000</td>\n",
       "    </tr>\n",
       "    <tr>\n",
       "      <th>3</th>\n",
       "      <td>103</td>\n",
       "      <td>Sony Vaio</td>\n",
       "      <td>Computer</td>\n",
       "      <td>35000</td>\n",
       "      <td>42000</td>\n",
       "      <td>21-Sep-10</td>\n",
       "      <td>-7000</td>\n",
       "      <td>-16.666667</td>\n",
       "    </tr>\n",
       "  </tbody>\n",
       "</table>\n",
       "</div>"
      ],
      "text/plain": [
       "   p_id       p_name    p_family  price   cost launch_date  profit  percentage\n",
       "0   100       Marker  Stationary     25     22   15-Jan-08       3   13.636364\n",
       "1   101        Mouse    Computer    450    350   16-Apr-09     100   28.571429\n",
       "2   102  White Board  Stationary    450    375   20-Aug-10      75   20.000000\n",
       "3   103    Sony Vaio    Computer  35000  42000   21-Sep-10   -7000  -16.666667"
      ]
     },
     "execution_count": 25,
     "metadata": {},
     "output_type": "execute_result"
    }
   ],
   "source": [
    "product"
   ]
  },
  {
   "cell_type": "code",
   "execution_count": 27,
   "id": "21dacdc3",
   "metadata": {},
   "outputs": [
    {
     "data": {
      "text/html": [
       "<div>\n",
       "<style scoped>\n",
       "    .dataframe tbody tr th:only-of-type {\n",
       "        vertical-align: middle;\n",
       "    }\n",
       "\n",
       "    .dataframe tbody tr th {\n",
       "        vertical-align: top;\n",
       "    }\n",
       "\n",
       "    .dataframe thead th {\n",
       "        text-align: right;\n",
       "    }\n",
       "</style>\n",
       "<table border=\"1\" class=\"dataframe\">\n",
       "  <thead>\n",
       "    <tr style=\"text-align: right;\">\n",
       "      <th></th>\n",
       "      <th>p_name</th>\n",
       "      <th>p_family</th>\n",
       "      <th>price</th>\n",
       "      <th>cost</th>\n",
       "      <th>profit</th>\n",
       "      <th>percentage</th>\n",
       "    </tr>\n",
       "  </thead>\n",
       "  <tbody>\n",
       "    <tr>\n",
       "      <th>0</th>\n",
       "      <td>Marker</td>\n",
       "      <td>Stationary</td>\n",
       "      <td>25</td>\n",
       "      <td>22</td>\n",
       "      <td>3</td>\n",
       "      <td>13.636364</td>\n",
       "    </tr>\n",
       "    <tr>\n",
       "      <th>1</th>\n",
       "      <td>Mouse</td>\n",
       "      <td>Computer</td>\n",
       "      <td>450</td>\n",
       "      <td>350</td>\n",
       "      <td>100</td>\n",
       "      <td>28.571429</td>\n",
       "    </tr>\n",
       "    <tr>\n",
       "      <th>2</th>\n",
       "      <td>White Board</td>\n",
       "      <td>Stationary</td>\n",
       "      <td>450</td>\n",
       "      <td>375</td>\n",
       "      <td>75</td>\n",
       "      <td>20.000000</td>\n",
       "    </tr>\n",
       "    <tr>\n",
       "      <th>3</th>\n",
       "      <td>Sony Vaio</td>\n",
       "      <td>Computer</td>\n",
       "      <td>35000</td>\n",
       "      <td>42000</td>\n",
       "      <td>-7000</td>\n",
       "      <td>-16.666667</td>\n",
       "    </tr>\n",
       "  </tbody>\n",
       "</table>\n",
       "</div>"
      ],
      "text/plain": [
       "        p_name    p_family  price   cost  profit  percentage\n",
       "0       Marker  Stationary     25     22       3   13.636364\n",
       "1        Mouse    Computer    450    350     100   28.571429\n",
       "2  White Board  Stationary    450    375      75   20.000000\n",
       "3    Sony Vaio    Computer  35000  42000   -7000  -16.666667"
      ]
     },
     "execution_count": 27,
     "metadata": {},
     "output_type": "execute_result"
    }
   ],
   "source": [
    "product[['p_name','p_family','price','cost','profit','percentage']]"
   ]
  },
  {
   "cell_type": "code",
   "execution_count": 32,
   "id": "133ec4e2",
   "metadata": {},
   "outputs": [
    {
     "data": {
      "text/html": [
       "<div>\n",
       "<style scoped>\n",
       "    .dataframe tbody tr th:only-of-type {\n",
       "        vertical-align: middle;\n",
       "    }\n",
       "\n",
       "    .dataframe tbody tr th {\n",
       "        vertical-align: top;\n",
       "    }\n",
       "\n",
       "    .dataframe thead th {\n",
       "        text-align: right;\n",
       "    }\n",
       "</style>\n",
       "<table border=\"1\" class=\"dataframe\">\n",
       "  <thead>\n",
       "    <tr style=\"text-align: right;\">\n",
       "      <th></th>\n",
       "      <th>p_name</th>\n",
       "      <th>cost</th>\n",
       "    </tr>\n",
       "  </thead>\n",
       "  <tbody>\n",
       "    <tr>\n",
       "      <th>1</th>\n",
       "      <td>Mouse</td>\n",
       "      <td>350</td>\n",
       "    </tr>\n",
       "    <tr>\n",
       "      <th>2</th>\n",
       "      <td>White Board</td>\n",
       "      <td>375</td>\n",
       "    </tr>\n",
       "    <tr>\n",
       "      <th>3</th>\n",
       "      <td>Sony Vaio</td>\n",
       "      <td>42000</td>\n",
       "    </tr>\n",
       "  </tbody>\n",
       "</table>\n",
       "</div>"
      ],
      "text/plain": [
       "        p_name   cost\n",
       "1        Mouse    350\n",
       "2  White Board    375\n",
       "3    Sony Vaio  42000"
      ]
     },
     "execution_count": 32,
     "metadata": {},
     "output_type": "execute_result"
    }
   ],
   "source": [
    "#1.\tWrite the select statement which gives all the products which costs more than Rs 250.\n",
    "product[['p_name', 'cost']][product['cost']>250]"
   ]
  },
  {
   "cell_type": "code",
   "execution_count": 33,
   "id": "4e6c41ae",
   "metadata": {},
   "outputs": [
    {
     "data": {
      "text/html": [
       "<div>\n",
       "<style scoped>\n",
       "    .dataframe tbody tr th:only-of-type {\n",
       "        vertical-align: middle;\n",
       "    }\n",
       "\n",
       "    .dataframe tbody tr th {\n",
       "        vertical-align: top;\n",
       "    }\n",
       "\n",
       "    .dataframe thead th {\n",
       "        text-align: right;\n",
       "    }\n",
       "</style>\n",
       "<table border=\"1\" class=\"dataframe\">\n",
       "  <thead>\n",
       "    <tr style=\"text-align: right;\">\n",
       "      <th></th>\n",
       "      <th>p_name</th>\n",
       "      <th>cost</th>\n",
       "      <th>price</th>\n",
       "      <th>profit</th>\n",
       "    </tr>\n",
       "  </thead>\n",
       "  <tbody>\n",
       "    <tr>\n",
       "      <th>0</th>\n",
       "      <td>Marker</td>\n",
       "      <td>22</td>\n",
       "      <td>25</td>\n",
       "      <td>3</td>\n",
       "    </tr>\n",
       "    <tr>\n",
       "      <th>1</th>\n",
       "      <td>Mouse</td>\n",
       "      <td>350</td>\n",
       "      <td>450</td>\n",
       "      <td>100</td>\n",
       "    </tr>\n",
       "    <tr>\n",
       "      <th>2</th>\n",
       "      <td>White Board</td>\n",
       "      <td>375</td>\n",
       "      <td>450</td>\n",
       "      <td>75</td>\n",
       "    </tr>\n",
       "    <tr>\n",
       "      <th>3</th>\n",
       "      <td>Sony Vaio</td>\n",
       "      <td>42000</td>\n",
       "      <td>35000</td>\n",
       "      <td>-7000</td>\n",
       "    </tr>\n",
       "  </tbody>\n",
       "</table>\n",
       "</div>"
      ],
      "text/plain": [
       "        p_name   cost  price  profit\n",
       "0       Marker     22     25       3\n",
       "1        Mouse    350    450     100\n",
       "2  White Board    375    450      75\n",
       "3    Sony Vaio  42000  35000   -7000"
      ]
     },
     "execution_count": 33,
     "metadata": {},
     "output_type": "execute_result"
    }
   ],
   "source": [
    "#2.\tWrite the select statement which gives product name, cost, price and profit. (profit formula is price – cost)\n",
    "product[['p_name', 'cost', 'price', 'profit']]"
   ]
  },
  {
   "cell_type": "code",
   "execution_count": 36,
   "id": "5dae0745",
   "metadata": {},
   "outputs": [
    {
     "data": {
      "text/html": [
       "<div>\n",
       "<style scoped>\n",
       "    .dataframe tbody tr th:only-of-type {\n",
       "        vertical-align: middle;\n",
       "    }\n",
       "\n",
       "    .dataframe tbody tr th {\n",
       "        vertical-align: top;\n",
       "    }\n",
       "\n",
       "    .dataframe thead th {\n",
       "        text-align: right;\n",
       "    }\n",
       "</style>\n",
       "<table border=\"1\" class=\"dataframe\">\n",
       "  <thead>\n",
       "    <tr style=\"text-align: right;\">\n",
       "      <th></th>\n",
       "      <th>p_name</th>\n",
       "      <th>cost</th>\n",
       "      <th>profit</th>\n",
       "    </tr>\n",
       "  </thead>\n",
       "  <tbody>\n",
       "    <tr>\n",
       "      <th>1</th>\n",
       "      <td>Mouse</td>\n",
       "      <td>350</td>\n",
       "      <td>100</td>\n",
       "    </tr>\n",
       "  </tbody>\n",
       "</table>\n",
       "</div>"
      ],
      "text/plain": [
       "  p_name  cost  profit\n",
       "1  Mouse   350     100"
      ]
     },
     "execution_count": 36,
     "metadata": {},
     "output_type": "execute_result"
    }
   ],
   "source": [
    "#4.\tDisplay the products which give the profit greater than 100 Rs.\n",
    "product[['p_name', 'cost', 'profit']][product['profit']>75]"
   ]
  },
  {
   "cell_type": "code",
   "execution_count": 48,
   "id": "fee9123d",
   "metadata": {},
   "outputs": [
    {
     "data": {
      "text/html": [
       "<div>\n",
       "<style scoped>\n",
       "    .dataframe tbody tr th:only-of-type {\n",
       "        vertical-align: middle;\n",
       "    }\n",
       "\n",
       "    .dataframe tbody tr th {\n",
       "        vertical-align: top;\n",
       "    }\n",
       "\n",
       "    .dataframe thead th {\n",
       "        text-align: right;\n",
       "    }\n",
       "</style>\n",
       "<table border=\"1\" class=\"dataframe\">\n",
       "  <thead>\n",
       "    <tr style=\"text-align: right;\">\n",
       "      <th></th>\n",
       "      <th>p_name</th>\n",
       "      <th>profit</th>\n",
       "    </tr>\n",
       "  </thead>\n",
       "  <tbody>\n",
       "    <tr>\n",
       "      <th>1</th>\n",
       "      <td>Mouse</td>\n",
       "      <td>100</td>\n",
       "    </tr>\n",
       "  </tbody>\n",
       "</table>\n",
       "</div>"
      ],
      "text/plain": [
       "  p_name  profit\n",
       "1  Mouse     100"
      ]
     },
     "execution_count": 48,
     "metadata": {},
     "output_type": "execute_result"
    }
   ],
   "source": [
    "#6.\tDisplay the products which give more profit than the p_id 102.\n",
    "product[['p_name', 'profit']][product['profit']> int(product['profit'][product['p_id']==102])]"
   ]
  },
  {
   "cell_type": "code",
   "execution_count": 40,
   "id": "163b2671",
   "metadata": {},
   "outputs": [
    {
     "data": {
      "text/plain": [
       "0    3\n",
       "Name: profit, dtype: int64"
      ]
     },
     "execution_count": 40,
     "metadata": {},
     "output_type": "execute_result"
    }
   ],
   "source": [
    "int(product['profit'][product['p_id']==100])]\n",
    " "
   ]
  },
  {
   "cell_type": "code",
   "execution_count": null,
   "id": "0c6d877a",
   "metadata": {},
   "outputs": [],
   "source": [
    "#8.\tDisplay the products which name starts with either ‘S’ or ‘W’ and which belongs to Stationary and cost more than 300 Rs"
   ]
  }
 ],
 "metadata": {
  "kernelspec": {
   "display_name": "Python 3 (ipykernel)",
   "language": "python",
   "name": "python3"
  },
  "language_info": {
   "codemirror_mode": {
    "name": "ipython",
    "version": 3
   },
   "file_extension": ".py",
   "mimetype": "text/x-python",
   "name": "python",
   "nbconvert_exporter": "python",
   "pygments_lexer": "ipython3",
   "version": "3.9.7"
  }
 },
 "nbformat": 4,
 "nbformat_minor": 5
}
